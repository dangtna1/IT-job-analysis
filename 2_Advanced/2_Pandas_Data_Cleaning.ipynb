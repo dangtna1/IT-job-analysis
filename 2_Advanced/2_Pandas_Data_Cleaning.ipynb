{
 "cells": [
  {
   "cell_type": "code",
   "execution_count": 7,
   "metadata": {},
   "outputs": [],
   "source": [
    "# Importing libraries\n",
    "import pandas as pd\n",
    "from datasets import load_dataset\n",
    "\n",
    "# Loading data\n",
    "dataset = load_dataset('lukebarousse/data_jobs', split='train')\n",
    "df = dataset.to_pandas()\n",
    "\n",
    "# Data cleanup\n",
    "df['job_posted_date'] = pd.to_datetime(df['job_posted_date'])"
   ]
  },
  {
   "cell_type": "code",
   "execution_count": 13,
   "metadata": {},
   "outputs": [],
   "source": [
    "df_cleaned = df.dropna(how='all') # drop rows if all elements are NaN"
   ]
  },
  {
   "cell_type": "code",
   "execution_count": 14,
   "metadata": {},
   "outputs": [
    {
     "data": {
      "text/html": [
       "<div>\n",
       "<style scoped>\n",
       "    .dataframe tbody tr th:only-of-type {\n",
       "        vertical-align: middle;\n",
       "    }\n",
       "\n",
       "    .dataframe tbody tr th {\n",
       "        vertical-align: top;\n",
       "    }\n",
       "\n",
       "    .dataframe thead th {\n",
       "        text-align: right;\n",
       "    }\n",
       "</style>\n",
       "<table border=\"1\" class=\"dataframe\">\n",
       "  <thead>\n",
       "    <tr style=\"text-align: right;\">\n",
       "      <th></th>\n",
       "      <th>salary_rate</th>\n",
       "      <th>salary_year_avg</th>\n",
       "      <th>salary_hour_avg</th>\n",
       "    </tr>\n",
       "  </thead>\n",
       "  <tbody>\n",
       "    <tr>\n",
       "      <th>0</th>\n",
       "      <td>None</td>\n",
       "      <td>NaN</td>\n",
       "      <td>NaN</td>\n",
       "    </tr>\n",
       "    <tr>\n",
       "      <th>1</th>\n",
       "      <td>None</td>\n",
       "      <td>NaN</td>\n",
       "      <td>NaN</td>\n",
       "    </tr>\n",
       "    <tr>\n",
       "      <th>2</th>\n",
       "      <td>None</td>\n",
       "      <td>NaN</td>\n",
       "      <td>NaN</td>\n",
       "    </tr>\n",
       "    <tr>\n",
       "      <th>3</th>\n",
       "      <td>None</td>\n",
       "      <td>NaN</td>\n",
       "      <td>NaN</td>\n",
       "    </tr>\n",
       "    <tr>\n",
       "      <th>4</th>\n",
       "      <td>None</td>\n",
       "      <td>NaN</td>\n",
       "      <td>NaN</td>\n",
       "    </tr>\n",
       "    <tr>\n",
       "      <th>5</th>\n",
       "      <td>None</td>\n",
       "      <td>NaN</td>\n",
       "      <td>NaN</td>\n",
       "    </tr>\n",
       "    <tr>\n",
       "      <th>6</th>\n",
       "      <td>None</td>\n",
       "      <td>NaN</td>\n",
       "      <td>NaN</td>\n",
       "    </tr>\n",
       "    <tr>\n",
       "      <th>7</th>\n",
       "      <td>None</td>\n",
       "      <td>NaN</td>\n",
       "      <td>NaN</td>\n",
       "    </tr>\n",
       "    <tr>\n",
       "      <th>8</th>\n",
       "      <td>None</td>\n",
       "      <td>NaN</td>\n",
       "      <td>NaN</td>\n",
       "    </tr>\n",
       "    <tr>\n",
       "      <th>9</th>\n",
       "      <td>None</td>\n",
       "      <td>NaN</td>\n",
       "      <td>NaN</td>\n",
       "    </tr>\n",
       "  </tbody>\n",
       "</table>\n",
       "</div>"
      ],
      "text/plain": [
       "  salary_rate  salary_year_avg  salary_hour_avg\n",
       "0        None              NaN              NaN\n",
       "1        None              NaN              NaN\n",
       "2        None              NaN              NaN\n",
       "3        None              NaN              NaN\n",
       "4        None              NaN              NaN\n",
       "5        None              NaN              NaN\n",
       "6        None              NaN              NaN\n",
       "7        None              NaN              NaN\n",
       "8        None              NaN              NaN\n",
       "9        None              NaN              NaN"
      ]
     },
     "execution_count": 14,
     "metadata": {},
     "output_type": "execute_result"
    }
   ],
   "source": [
    "df_cleaned.iloc[0:10, 11:14]"
   ]
  },
  {
   "cell_type": "code",
   "execution_count": 17,
   "metadata": {},
   "outputs": [
    {
     "name": "stdout",
     "output_type": "stream",
     "text": [
      "<class 'pandas.core.frame.DataFrame'>\n",
      "RangeIndex: 785741 entries, 0 to 785740\n",
      "Data columns (total 18 columns):\n",
      " #   Column                 Non-Null Count   Dtype         \n",
      "---  ------                 --------------   -----         \n",
      " 0   job_title_short        785741 non-null  object        \n",
      " 1   job_title              785741 non-null  object        \n",
      " 2   job_location           785741 non-null  object        \n",
      " 3   job_via                785741 non-null  object        \n",
      " 4   job_schedule_type      785741 non-null  object        \n",
      " 5   job_work_from_home     785741 non-null  bool          \n",
      " 6   search_location        785741 non-null  object        \n",
      " 7   job_posted_date        785741 non-null  object        \n",
      " 8   job_no_degree_mention  785741 non-null  bool          \n",
      " 9   job_health_insurance   785741 non-null  bool          \n",
      " 10  job_country            785741 non-null  object        \n",
      " 11  salary_rate            785741 non-null  object        \n",
      " 12  salary_year_avg        785741 non-null  float64       \n",
      " 13  salary_hour_avg        785741 non-null  float64       \n",
      " 14  company_name           785741 non-null  object        \n",
      " 15  job_skills             785741 non-null  object        \n",
      " 16  job_type_skills        785741 non-null  object        \n",
      " 17  job_posted)data        785741 non-null  datetime64[ns]\n",
      "dtypes: bool(3), datetime64[ns](1), float64(2), object(12)\n",
      "memory usage: 92.2+ MB\n"
     ]
    }
   ],
   "source": [
    "df_filled = df_cleaned.fillna(0)\n",
    "df_filled.info()"
   ]
  },
  {
   "cell_type": "code",
   "execution_count": 18,
   "metadata": {},
   "outputs": [
    {
     "name": "stdout",
     "output_type": "stream",
     "text": [
      "<class 'pandas.core.frame.DataFrame'>\n",
      "Index: 785640 entries, 0 to 785740\n",
      "Data columns (total 18 columns):\n",
      " #   Column                 Non-Null Count   Dtype         \n",
      "---  ------                 --------------   -----         \n",
      " 0   job_title_short        785640 non-null  object        \n",
      " 1   job_title              785640 non-null  object        \n",
      " 2   job_location           785640 non-null  object        \n",
      " 3   job_via                785640 non-null  object        \n",
      " 4   job_schedule_type      785640 non-null  object        \n",
      " 5   job_work_from_home     785640 non-null  bool          \n",
      " 6   search_location        785640 non-null  object        \n",
      " 7   job_posted_date        785640 non-null  object        \n",
      " 8   job_no_degree_mention  785640 non-null  bool          \n",
      " 9   job_health_insurance   785640 non-null  bool          \n",
      " 10  job_country            785640 non-null  object        \n",
      " 11  salary_rate            785640 non-null  object        \n",
      " 12  salary_year_avg        785640 non-null  float64       \n",
      " 13  salary_hour_avg        785640 non-null  float64       \n",
      " 14  company_name           785640 non-null  object        \n",
      " 15  job_skills             785640 non-null  object        \n",
      " 16  job_type_skills        785640 non-null  object        \n",
      " 17  job_posted)data        785640 non-null  datetime64[ns]\n",
      "dtypes: bool(3), datetime64[ns](1), float64(2), object(12)\n",
      "memory usage: 98.2+ MB\n"
     ]
    }
   ],
   "source": [
    "df_unique = df_filled.drop_duplicates()\n",
    "df_unique.info()"
   ]
  },
  {
   "cell_type": "code",
   "execution_count": 22,
   "metadata": {},
   "outputs": [
    {
     "name": "stdout",
     "output_type": "stream",
     "text": [
      "<class 'pandas.core.frame.DataFrame'>\n",
      "Index: 234674 entries, 0 to 785740\n",
      "Data columns (total 18 columns):\n",
      " #   Column                 Non-Null Count   Dtype         \n",
      "---  ------                 --------------   -----         \n",
      " 0   job_title_short        234674 non-null  object        \n",
      " 1   job_title              234674 non-null  object        \n",
      " 2   job_location           234674 non-null  object        \n",
      " 3   job_via                234674 non-null  object        \n",
      " 4   job_schedule_type      234674 non-null  object        \n",
      " 5   job_work_from_home     234674 non-null  bool          \n",
      " 6   search_location        234674 non-null  object        \n",
      " 7   job_posted_date        234674 non-null  object        \n",
      " 8   job_no_degree_mention  234674 non-null  bool          \n",
      " 9   job_health_insurance   234674 non-null  bool          \n",
      " 10  job_country            234674 non-null  object        \n",
      " 11  salary_rate            234674 non-null  object        \n",
      " 12  salary_year_avg        234674 non-null  float64       \n",
      " 13  salary_hour_avg        234674 non-null  float64       \n",
      " 14  company_name           234674 non-null  object        \n",
      " 15  job_skills             234674 non-null  object        \n",
      " 16  job_type_skills        234674 non-null  object        \n",
      " 17  job_posted)data        234674 non-null  datetime64[ns]\n",
      "dtypes: bool(3), datetime64[ns](1), float64(2), object(12)\n",
      "memory usage: 29.3+ MB\n"
     ]
    }
   ],
   "source": [
    "df_unique = df_filled.drop_duplicates(subset='job_title')\n",
    "df_unique.info()"
   ]
  }
 ],
 "metadata": {
  "kernelspec": {
   "display_name": "DA_course",
   "language": "python",
   "name": "python3"
  },
  "language_info": {
   "codemirror_mode": {
    "name": "ipython",
    "version": 3
   },
   "file_extension": ".py",
   "mimetype": "text/x-python",
   "name": "python",
   "nbconvert_exporter": "python",
   "pygments_lexer": "ipython3",
   "version": "3.11.9"
  }
 },
 "nbformat": 4,
 "nbformat_minor": 2
}
